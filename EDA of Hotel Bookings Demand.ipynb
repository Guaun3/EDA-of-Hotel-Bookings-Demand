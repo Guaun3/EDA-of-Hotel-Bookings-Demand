{
 "cells": [
  {
   "cell_type": "code",
   "execution_count": null,
   "id": "3534f251",
   "metadata": {
    "scrolled": true
   },
   "outputs": [],
   "source": [
    "import pandas as pd\n",
    "import numpy as np\n",
    "import matplotlib.pyplot as plt\n",
    "import seaborn as sns"
   ]
  },
  {
   "cell_type": "code",
   "execution_count": null,
   "id": "83e068fe",
   "metadata": {
    "scrolled": true
   },
   "outputs": [],
   "source": [
    "df = pd.read_csv('hotel_bookings.csv')\n",
    "df.head() # print top 5 rows only"
   ]
  },
  {
   "cell_type": "code",
   "execution_count": null,
   "id": "97a7ce5d",
   "metadata": {
    "scrolled": true
   },
   "outputs": [],
   "source": [
    "# (#rows, #columns)\n",
    "df.shape"
   ]
  },
  {
   "cell_type": "code",
   "execution_count": null,
   "id": "8bda46cb",
   "metadata": {
    "scrolled": true
   },
   "outputs": [],
   "source": [
    "# display max # of columns\n",
    "pd.set_option(\"display.max_columns\", 32)"
   ]
  },
  {
   "cell_type": "code",
   "execution_count": null,
   "id": "a5255ed8",
   "metadata": {
    "scrolled": true
   },
   "outputs": [],
   "source": [
    "df.head() # print top 5 rows"
   ]
  },
  {
   "cell_type": "code",
   "execution_count": null,
   "id": "53b04c85",
   "metadata": {
    "scrolled": true
   },
   "outputs": [],
   "source": [
    "# shows all the columns' name this data frame has\n",
    "df.columns"
   ]
  },
  {
   "cell_type": "code",
   "execution_count": null,
   "id": "7778ae6a",
   "metadata": {
    "scrolled": true
   },
   "outputs": [],
   "source": [
    "df.nunique()"
   ]
  },
  {
   "cell_type": "markdown",
   "id": "02400bc1",
   "metadata": {},
   "source": [
    "<span style=\"color:Gray\">\n",
    "adr: avg daily revenue that a hotel receives for each occupied guest room by date. By measuring adr, we are able to see the avg rate that comes from all occupied rooms.<br/>\n",
    "reservation_status: canceled/checked out/not show <br/>\n",
    "reservation_status_date: when was the reservation_status last updated\n",
    "</span>"
   ]
  },
  {
   "cell_type": "code",
   "execution_count": null,
   "id": "c5563a6b",
   "metadata": {
    "scrolled": true
   },
   "outputs": [],
   "source": [
    "# count the number of occurrences each value have\n",
    "df['hotel'].value_counts()"
   ]
  },
  {
   "cell_type": "markdown",
   "id": "cc20435b",
   "metadata": {},
   "source": [
    "<span style=\"color:Gray\">\n",
    "The city hotel is having 79330 records and the resort hotel is having 40060 records. The city hotel has almost double number of records more than the resort hotel. This dataset is imbalanced.<br/>\n",
    "(# important to know when creating the models)\n",
    "</span>"
   ]
  },
  {
   "cell_type": "code",
   "execution_count": null,
   "id": "3b8a6a72",
   "metadata": {
    "scrolled": true
   },
   "outputs": [],
   "source": [
    "df['meal'].value_counts()"
   ]
  },
  {
   "cell_type": "markdown",
   "id": "228fe0ce",
   "metadata": {},
   "source": [
    "<span style=\"color:Gray\">\n",
    "\"meal\" has five categories<br/>\n",
    "&nbsp;&nbsp;<span style=\"color:blue\">(\"Undefined\" is the same as \"SC\" -> can merge this two columns by rename \"Undefined\" as \"SC\")</span> <br/>\n",
    "Board: what is included in the price of accommodation<br/>\n",
    "BB: bedding Breakfast<br/>\n",
    "HB: Half board, breakfast + one other meal (usually dinner)<br/>\n",
    "SC: self-catering (no meals are included)<br/>\n",
    "Undefined: no meal package<br/>\n",
    "FB: full board, breakfast + lunch + dinner\n",
    "</span>"
   ]
  },
  {
   "cell_type": "code",
   "execution_count": null,
   "id": "2eb77a76",
   "metadata": {
    "scrolled": true
   },
   "outputs": [],
   "source": [
    "df['market_segment'].value_counts()"
   ]
  },
  {
   "cell_type": "markdown",
   "id": "283fe884",
   "metadata": {},
   "source": [
    "Online TA: online travel agent\\\n",
    "Offline TA/TO: offline travel agent/ tour operator"
   ]
  },
  {
   "cell_type": "code",
   "execution_count": null,
   "id": "d3a18b1a",
   "metadata": {
    "scrolled": true
   },
   "outputs": [],
   "source": [
    "df['distribution_channel'].value_counts()"
   ]
  },
  {
   "cell_type": "code",
   "execution_count": null,
   "id": "10781cb3",
   "metadata": {
    "scrolled": true
   },
   "outputs": [],
   "source": [
    "df['deposit_type'].value_counts()"
   ]
  },
  {
   "cell_type": "code",
   "execution_count": null,
   "id": "d7884a5c",
   "metadata": {
    "scrolled": true
   },
   "outputs": [],
   "source": [
    "df['customer_type'].value_counts()"
   ]
  },
  {
   "cell_type": "code",
   "execution_count": null,
   "id": "5cbce74d",
   "metadata": {
    "scrolled": true
   },
   "outputs": [],
   "source": [
    "df['reservation_status'].value_counts()"
   ]
  },
  {
   "cell_type": "code",
   "execution_count": null,
   "id": "b4945657",
   "metadata": {
    "scrolled": true
   },
   "outputs": [],
   "source": [
    "df['total_of_special_requests'].value_counts()"
   ]
  },
  {
   "cell_type": "code",
   "execution_count": null,
   "id": "4d3eb73d",
   "metadata": {
    "scrolled": true
   },
   "outputs": [],
   "source": [
    "df['is_repeated_guest'].value_counts()"
   ]
  },
  {
   "cell_type": "code",
   "execution_count": null,
   "id": "471396d6",
   "metadata": {
    "scrolled": true
   },
   "outputs": [],
   "source": [
    "sns.countplot(data=df, x=\"hotel\")"
   ]
  },
  {
   "cell_type": "code",
   "execution_count": null,
   "id": "0a367afb",
   "metadata": {
    "scrolled": true
   },
   "outputs": [],
   "source": [
    "sns.countplot(data=df, x=\"is_canceled\", hue=\"is_repeated_guest\")"
   ]
  },
  {
   "cell_type": "code",
   "execution_count": null,
   "id": "3b807288",
   "metadata": {
    "scrolled": true
   },
   "outputs": [],
   "source": [
    "sns.countplot(data=df, x=\"hotel\", hue = \"is_canceled\")"
   ]
  },
  {
   "cell_type": "markdown",
   "id": "3f6bbbd3",
   "metadata": {},
   "source": [
    "<span style=\"color:Gray\">\n",
    "City hotel has more guests and higher percentage of cancelation compared to the resort hotel.\n",
    "    </span>"
   ]
  },
  {
   "cell_type": "markdown",
   "id": "d30c0c1a",
   "metadata": {},
   "source": [
    "# 3. Cleaning (Prepare data for analysis)"
   ]
  },
  {
   "cell_type": "markdown",
   "id": "f0915c30",
   "metadata": {},
   "source": [
    "## Missing Data"
   ]
  },
  {
   "cell_type": "code",
   "execution_count": null,
   "id": "fbc53cb5",
   "metadata": {
    "scrolled": true
   },
   "outputs": [],
   "source": [
    "# check if there are any NULL values present in the df\n",
    "df.isnull().values.any()"
   ]
  },
  {
   "cell_type": "markdown",
   "id": "d1e86ea7",
   "metadata": {},
   "source": [
    "<span style=\"color:Gray\">\n",
    "We get TRUE, which means there are NULL values present in the df\n",
    "    </span>"
   ]
  },
  {
   "cell_type": "code",
   "execution_count": null,
   "id": "862089c7",
   "metadata": {
    "scrolled": true
   },
   "outputs": [],
   "source": [
    "# check which columns are having NULL values\n",
    "df.isnull().sum()"
   ]
  },
  {
   "cell_type": "markdown",
   "id": "9cc6e220",
   "metadata": {},
   "source": [
    "<span style=\"color:Gray\">\n",
    "\"Country\" is having 488 NULL values.<br/>\n",
    "\"Agent\" is having 16340 NULL values: 16340 orders are booked directly.</span>\n",
    "\n",
    "<span style=\"color:blue\">(we can replace all the NULL values with \"0\")</span>."
   ]
  },
  {
   "cell_type": "code",
   "execution_count": null,
   "id": "c97c8cf6",
   "metadata": {
    "scrolled": true
   },
   "outputs": [],
   "source": [
    "# replacing missing value with 0\n",
    "# inplace=True: doing it directly in df\n",
    "df.fillna(0, inplace=True)"
   ]
  },
  {
   "cell_type": "code",
   "execution_count": null,
   "id": "88123aae",
   "metadata": {
    "scrolled": true
   },
   "outputs": [],
   "source": [
    "df.isnull().sum()"
   ]
  },
  {
   "cell_type": "markdown",
   "id": "3acc4b46",
   "metadata": {},
   "source": [
    "<span style=\"color:Gray\">\n",
    "There is no more NULL values after replacing all of them with 0\n",
    "    </span>"
   ]
  },
  {
   "cell_type": "markdown",
   "id": "16c9eab7",
   "metadata": {},
   "source": [
    "<span style=\"color:Red; font-size:14pt\">\n",
    "PS: whatever we do will not affect on the main data set. It only happens in this dataframe.\n",
    "    </span>"
   ]
  },
  {
   "cell_type": "code",
   "execution_count": null,
   "id": "47c3f4ee",
   "metadata": {
    "scrolled": true
   },
   "outputs": [],
   "source": [
    "# replace \"Undefined\" in \"Meal\" with \"SC\"\n",
    "df['meal'].replace(\"Undefined\", \"SC\", inplace=True)"
   ]
  },
  {
   "cell_type": "code",
   "execution_count": null,
   "id": "7df814e5",
   "metadata": {
    "scrolled": true
   },
   "outputs": [],
   "source": [
    "df['meal'].unique()"
   ]
  },
  {
   "cell_type": "code",
   "execution_count": null,
   "id": "b3fe1231",
   "metadata": {
    "scrolled": true
   },
   "outputs": [],
   "source": [
    "df['meal'].value_counts()"
   ]
  },
  {
   "cell_type": "markdown",
   "id": "15cc6988",
   "metadata": {},
   "source": [
    "<span style=\"color:Gray\">\n",
    "    Now, there are 10650+1169 \"SC\" values in meal\n",
    "    </span>"
   ]
  },
  {
   "cell_type": "markdown",
   "id": "94d06a71",
   "metadata": {},
   "source": [
    "<span style=\"color:Gray\">\n",
    "    For a booking information entry, if adult = children = babies = 0, it's not a valid entry\n",
    "</span>"
   ]
  },
  {
   "cell_type": "code",
   "execution_count": null,
   "id": "7e86a743",
   "metadata": {
    "scrolled": true
   },
   "outputs": [],
   "source": [
    "# select all the valid entries and store in \"Subset\"\n",
    "Subset=df[ (df['adults']==0) & (df['children']==0) & (df['babies']==0)]\n",
    "Subset"
   ]
  },
  {
   "cell_type": "code",
   "execution_count": null,
   "id": "e16260b7",
   "metadata": {
    "scrolled": true
   },
   "outputs": [],
   "source": [
    "Subset[['adults', 'babies', 'children']]"
   ]
  },
  {
   "cell_type": "markdown",
   "id": "dc76e884",
   "metadata": {},
   "source": [
    "<span style=\"color:Gray\">\n",
    "    If we check the 'adults', 'children' and 'babies' columns of Subset, we can see all their values are zero.<br/>\n",
    "    There are 180 invalid entries and we will delete them.\n",
    "    </span>"
   ]
  },
  {
   "cell_type": "code",
   "execution_count": null,
   "id": "fdb4fe63",
   "metadata": {
    "scrolled": true
   },
   "outputs": [],
   "source": [
    "type(Subset)"
   ]
  },
  {
   "cell_type": "code",
   "execution_count": null,
   "id": "a16c8eba",
   "metadata": {
    "scrolled": true
   },
   "outputs": [],
   "source": [
    "\"\"\"\n",
    "we want to delete the entries where adults=children=babies=0\n",
    "check if each entry if adults=children=babies=0; True -> delete, False -> keep\n",
    "if one of ABC != 0 -> the whole expression will be False -> we do not delete this entry\n",
    "\"\"\"\n",
    "False_list = (df['children']==0) & (df['adults']==0) & (df['babies']==0)"
   ]
  },
  {
   "cell_type": "code",
   "execution_count": null,
   "id": "ef579288",
   "metadata": {
    "scrolled": true
   },
   "outputs": [],
   "source": [
    "type(False_list)"
   ]
  },
  {
   "cell_type": "code",
   "execution_count": null,
   "id": "48c8aa61",
   "metadata": {
    "scrolled": true
   },
   "outputs": [],
   "source": [
    "False_list"
   ]
  },
  {
   "cell_type": "code",
   "execution_count": null,
   "id": "0dbf0f8d",
   "metadata": {
    "scrolled": true
   },
   "outputs": [],
   "source": [
    "# delete the negation of False_list (Series), which means deleting the entries which children = adults = babies = 0\n",
    "valid = df[~False_list]"
   ]
  },
  {
   "cell_type": "code",
   "execution_count": null,
   "id": "08f09384",
   "metadata": {
    "scrolled": true
   },
   "outputs": [],
   "source": [
    "valid.head() # the top five rows"
   ]
  },
  {
   "cell_type": "code",
   "execution_count": null,
   "id": "6fe0b5fe",
   "metadata": {
    "scrolled": true
   },
   "outputs": [],
   "source": [
    "# check again if new data frame still contains invalid entries\n",
    "temp = valid[ (valid['adults']==0) & (valid['children']==0) & (valid['babies']==0) ]\n",
    "temp"
   ]
  },
  {
   "cell_type": "code",
   "execution_count": null,
   "id": "11f46a44",
   "metadata": {
    "scrolled": true
   },
   "outputs": [],
   "source": [
    "valid.shape\n",
    "# In[4] we have (119390, 32), we removed 180 rows"
   ]
  },
  {
   "cell_type": "markdown",
   "id": "0005604b",
   "metadata": {},
   "source": [
    "<span style=\"color: Gray\">\n",
    "In[4] we have (119390, 32), we removed 180 rows, 119390-180=119210\n",
    "    </span>"
   ]
  },
  {
   "cell_type": "code",
   "execution_count": null,
   "id": "dc2ff447",
   "metadata": {
    "scrolled": true
   },
   "outputs": [],
   "source": [
    "valid.to_csv('Updataed_Hotel_Booking.csv', index=False)"
   ]
  },
  {
   "cell_type": "markdown",
   "id": "e3790f1f",
   "metadata": {},
   "source": [
    "# 4. Analysis (asking and answering questions)"
   ]
  },
  {
   "cell_type": "markdown",
   "id": "35adfc72",
   "metadata": {},
   "source": [
    "### 1. Where do our guests com from (which country)? "
   ]
  },
  {
   "cell_type": "markdown",
   "id": "f9ff3a24",
   "metadata": {},
   "source": [
    "<span style=\"color: Gray\">\n",
    "We don't want to do marketing in the wrong region. We want to do marketing at the region where most of our customers come from. <br/>\n",
    "    To visualize the region, we can choose bar chart, pie chart or map.\n",
    "    </span>"
   ]
  },
  {
   "cell_type": "code",
   "execution_count": null,
   "id": "1b008dbe",
   "metadata": {
    "scrolled": true
   },
   "outputs": [],
   "source": [
    "# we don't have the dataframe containing information we require\n",
    "\"\"\"\n",
    "get the entries where the booking is not canceled\n",
    "-> get the country column\n",
    "-> count the number of entries for each country\n",
    "-> reset index of df (the old index is added as new column, and a new sequential index is used)\n",
    "-> \n",
    "\"\"\"\n",
    "# \n",
    "guest_country = valid[valid['is_canceled']==0]['country'].value_counts().reset_index()\n",
    "guest_country.columns = ['country', 'Number of guests']\n",
    "guest_country"
   ]
  },
  {
   "cell_type": "markdown",
   "id": "13589099",
   "metadata": {},
   "source": [
    "we can see from the map the majority of the customers are coming from European"
   ]
  },
  {
   "cell_type": "code",
   "execution_count": null,
   "id": "36f9ac0a",
   "metadata": {
    "scrolled": true
   },
   "outputs": [],
   "source": [
    "import plotly.offline as pyo\n",
    "import plotly.graph_objs as go\n",
    "import plotly.express as px"
   ]
  },
  {
   "cell_type": "code",
   "execution_count": null,
   "id": "94de7642",
   "metadata": {
    "scrolled": true
   },
   "outputs": [],
   "source": [
    "# use Bar() to create bar chart\n",
    "trace = go.Bar(\n",
    "    x=guest_country['country'],\n",
    "    y=guest_country['Number of guests'],\n",
    "    marker=dict(color=\"#CD7F32\")\n",
    ")\n",
    "trace\n",
    "type(trace)"
   ]
  },
  {
   "cell_type": "code",
   "execution_count": null,
   "id": "4a6d9d94",
   "metadata": {
    "scrolled": true
   },
   "outputs": [],
   "source": [
    "layout = go.Layout(title=\"Guests by Country\") # t\n",
    "fig = go.Figure(data=[trace], layout=layout)\n",
    "fig"
   ]
  },
  {
   "cell_type": "code",
   "execution_count": null,
   "id": "dbbbe453",
   "metadata": {
    "scrolled": true
   },
   "outputs": [],
   "source": [
    "pyo.plot(fig)"
   ]
  },
  {
   "cell_type": "code",
   "execution_count": null,
   "id": "5aedaeef",
   "metadata": {
    "scrolled": true
   },
   "outputs": [],
   "source": [
    "map_guest = px.choropleth(\n",
    "    guest_country, # data frame you want to cre\n",
    "    locations = guest_country['country'],\n",
    "    color = guest_country[\"Number of guests\"],\n",
    "    hover_name = guest_country['country'],\n",
    "    title = \"Home country of guests\")\n",
    "map_guest.show()"
   ]
  },
  {
   "cell_type": "code",
   "execution_count": null,
   "id": "af8aca44",
   "metadata": {
    "scrolled": true
   },
   "outputs": [],
   "source": [
    "total_guests = guest_country[\"Number of guests\"].sum()\n",
    "Guests_in_percent = round(guest_country[\"Number of guests\"]/total_guests * 100, 2)\n",
    "guest_country['Guests_in_%'] = Guests_in_percent\n",
    "guest_country"
   ]
  },
  {
   "cell_type": "code",
   "execution_count": null,
   "id": "91a2525a",
   "metadata": {
    "scrolled": true
   },
   "outputs": [],
   "source": [
    "# use Bar() to create bar chart\n",
    "pct_bar = go.Bar(\n",
    "    x=guest_country['country'],\n",
    "    y=guest_country['Guests_in_%'],\n",
    "    marker=dict(color=\"#CD7F32\")\n",
    ")\n",
    "pct_bar\n",
    "type(pct_bar)\n",
    "layout = go.Layout(title=\"%Guests by Country\") # t\n",
    "fig = go.Figure(data=[pct_bar], layout=layout)\n",
    "fig"
   ]
  },
  {
   "cell_type": "code",
   "execution_count": null,
   "id": "7c18ed5d",
   "metadata": {
    "scrolled": true
   },
   "outputs": [],
   "source": [
    "percentage_map = px.choropleth(guest_country,\n",
    "                              locations = guest_country['country'],\n",
    "                              color = guest_country['Guests_in_%'],\n",
    "                              hover_name = guest_country[\"Guests_in_%\"],\n",
    "                              title = \"Percentage of guests' home countries\")\n",
    "percentage_map.show()"
   ]
  },
  {
   "cell_type": "markdown",
   "id": "8a077e20",
   "metadata": {},
   "source": [
    "# 5. Room Price Analysis\n",
    "\n",
    "Price variation per person per night over the year \\\n",
    "we will use average to analyze\\\n",
    "hotels: Resort, City\\\n",
    "Steps\\\n",
    "1: Create DF for resort and city respectively\\\n",
    "2. calculate average value for adr(average daily rate) in 2 dataframe\\\n",
    "for each type of hotel: for each month: there will be many entries -> for each date, there will be a adr (average daily value) -> the average of them will be the monthly adr\\\n",
    "3. combine two dataframes into one\\\n",
    "4. rearrange the month\\\n",
    "5. plot the chart"
   ]
  },
  {
   "cell_type": "markdown",
   "id": "3783c0f3",
   "metadata": {},
   "source": [
    "## Miss Interpreting Data"
   ]
  },
  {
   "cell_type": "code",
   "execution_count": null,
   "id": "fc51a018",
   "metadata": {
    "scrolled": true
   },
   "outputs": [],
   "source": [
    "valid"
   ]
  },
  {
   "cell_type": "code",
   "execution_count": null,
   "id": "8cd8b1a6",
   "metadata": {
    "scrolled": true
   },
   "outputs": [],
   "source": [
    "# get the booking entries that supposed to be counted\n",
    "resort = valid[(valid[\"is_canceled\"] == 0) & (valid['hotel'] == \"Resort Hotel\")]\n",
    "city = valid[(valid['is_canceled'] == 0) & (valid['hotel'] == \"City Hotel\")]\n",
    "resort"
   ]
  },
  {
   "cell_type": "code",
   "execution_count": null,
   "id": "81183af2",
   "metadata": {
    "scrolled": true
   },
   "outputs": [],
   "source": [
    "\"\"\"\n",
    "Resort hotel's mean adr for each month\n",
    "group the data by arrival_date_month --> calculate the mean adr\n",
    "\"\"\"\n",
    "resort_hotel = resort.groupby(['arrival_date_month'])['adr'].mean().reset_index()\n",
    "resort_hotel"
   ]
  },
  {
   "cell_type": "code",
   "execution_count": null,
   "id": "2465af82",
   "metadata": {
    "scrolled": true
   },
   "outputs": [],
   "source": [
    "# City hotel's mean adr for each month\n",
    "city_hotel = city.groupby([\"arrival_date_month\"])[\"adr\"].mean().reset_index()\n",
    "city_hotel"
   ]
  },
  {
   "cell_type": "code",
   "execution_count": null,
   "id": "7e3f6c1e",
   "metadata": {
    "scrolled": true
   },
   "outputs": [],
   "source": [
    "# merge the two data frame above into one by their month (SQL: a join b on xxx)\n",
    "final = resort_hotel.merge(city_hotel, on=\"arrival_date_month\")\n",
    "# rename the column names\n",
    "final.columns = [\"month\", \"price_for_resort_hotel\", \"price_for_city_hotel\"]\n",
    "final"
   ]
  },
  {
   "cell_type": "code",
   "execution_count": null,
   "id": "0cf549d3",
   "metadata": {
    "scrolled": true
   },
   "outputs": [],
   "source": [
    "# install the packages that helps sorting the month\n",
    "!pip install sort-dataframeby-monthorweek\n",
    "## Dependency package\n",
    "!pip install sorted-months-weekdays"
   ]
  },
  {
   "cell_type": "code",
   "execution_count": null,
   "id": "90a3f669",
   "metadata": {
    "scrolled": true
   },
   "outputs": [],
   "source": [
    "# sort the month by ascending order(method 1)\n",
    "import sort_dataframeby_monthorweek as sd\n",
    "final2 = sd.Sort_Dataframeby_Month(df=final, monthcolumnname=\"month\")\n",
    "final2"
   ]
  },
  {
   "cell_type": "code",
   "execution_count": null,
   "id": "b5c27dc9",
   "metadata": {
    "scrolled": true
   },
   "outputs": [],
   "source": [
    "# method 2: specify the categories, pandas remembers the order of specification as the default sort order.\n",
    "months = [\"January\", \"February\", \"March\", \"April\", \"May\", \"June\", \"July\", \"August\", \n",
    "          \"September\", \"October\", \"November\", \"December\"]\n",
    "final['month'] = pd.Categorical(final['month'], categories=months, ordered=True)\n",
    "final.sort_values(by='month',inplace=True)\n",
    "final"
   ]
  },
  {
   "cell_type": "code",
   "execution_count": null,
   "id": "020e5c5a",
   "metadata": {
    "scrolled": true
   },
   "outputs": [],
   "source": [
    "# create two-line chart with x as month, and y as mean adr for each month for two different type of hotel\n",
    "px.line(final,\n",
    "       x = \"month\",\n",
    "       y = [\"price_for_resort_hotel\", \"price_for_city_hotel\"],\n",
    "       title = \"Room Price Per Night Over The Months\")"
   ]
  },
  {
   "cell_type": "markdown",
   "id": "227cb308",
   "metadata": {},
   "source": [
    "<span style=\"color:Gray\">\n",
    "    The price for resort hotel is much higher during the summer (June, July and August) than other time in the year. The price for city hotel is about the same for the whole year, in the range of \\$80 to \\$120.<br/>\n",
    "    But we are not considering the number of guests right now, which we should.\n",
    "    </span>"
   ]
  },
  {
   "cell_type": "code",
   "execution_count": null,
   "id": "5098203f",
   "metadata": {
    "scrolled": true
   },
   "outputs": [],
   "source": [
    "# add another column \"adr_updated\" which contains the adr value per person\n",
    "valid[\"adr_updated\"] = valid[\"adr\"] / (valid[\"adults\"] + valid[\"children\"])\n",
    "valid"
   ]
  },
  {
   "cell_type": "code",
   "execution_count": null,
   "id": "35a43c94",
   "metadata": {
    "scrolled": true
   },
   "outputs": [],
   "source": [
    "resort_udp = valid[ (valid[\"hotel\"] == \"Resort Hotel\") & (valid['is_canceled'] == 0) ]\n",
    "resort_hotel_udp = resort_udp.groupby( ['arrival_date_month'] )['adr_updated'].mean().reset_index()\n",
    "resort_hotel_udp"
   ]
  },
  {
   "cell_type": "code",
   "execution_count": null,
   "id": "7e4d19bf",
   "metadata": {
    "scrolled": true
   },
   "outputs": [],
   "source": [
    "city_udp = valid[ (valid[\"hotel\"] == \"City Hotel\") & (valid['is_canceled'] == 0) ]\n",
    "city_hotel_udp = city_udp.groupby( [\"arrival_date_month\"] )['adr_updated'].mean().reset_index()\n",
    "city_hotel_udp"
   ]
  },
  {
   "cell_type": "code",
   "execution_count": null,
   "id": "77d681e0",
   "metadata": {
    "scrolled": true
   },
   "outputs": [],
   "source": [
    "final_udp = resort_hotel_udp.merge( city_hotel_udp, on=\"arrival_date_month\")\n",
    "final_udp.columns = ['month', 'price_for_resort_hotel', 'price_for_city_hotel']\n",
    "final_udp"
   ]
  },
  {
   "cell_type": "code",
   "execution_count": null,
   "id": "5ae436fa",
   "metadata": {
    "scrolled": true
   },
   "outputs": [],
   "source": [
    "final_udp = sd.Sort_Dataframeby_Month(df = final_udp, monthcolumnname=\"month\")\n",
    "final_udp"
   ]
  },
  {
   "cell_type": "code",
   "execution_count": null,
   "id": "7ec2a89c",
   "metadata": {
    "scrolled": true
   },
   "outputs": [],
   "source": [
    "# create two-line chart with x as month, and y as mean adr for each month for two different type of hotel\n",
    "px.line(final_udp,\n",
    "       x = \"month\",\n",
    "       y = [\"price_for_resort_hotel\", \"price_for_city_hotel\"],\n",
    "       title = \"Room Price Per Night Per Person Over The Months\")"
   ]
  },
  {
   "cell_type": "markdown",
   "id": "e1f9425c",
   "metadata": {},
   "source": [
    "Summer in Portugal sits between June and mid-September<br/>\n",
    "while the winter season falls between December\n",
    "can't say whether the price is increasing or decreasing since it depends on many factors"
   ]
  },
  {
   "cell_type": "markdown",
   "id": "49b014a1",
   "metadata": {},
   "source": [
    "# 6. Room Price Analysis Across Room Type\n",
    "How is the price distributed across the room type? <br/>\n",
    "To answer this question, we will need column **hotel, assigned_room_type** and **adr** <br/>\n",
    "<span style=\"color:Gray\">\n",
    "Box plot: <br/>\n",
    "x: room type <br/>\n",
    "y: price (assume price in EU)<br/>\n",
    "one line for each room type\n",
    "    </span>"
   ]
  },
  {
   "cell_type": "code",
   "execution_count": null,
   "id": "3d030c2d",
   "metadata": {
    "scrolled": true
   },
   "outputs": [],
   "source": [
    "valid.columns"
   ]
  },
  {
   "cell_type": "code",
   "execution_count": null,
   "id": "bfedfcd1",
   "metadata": {
    "scrolled": true
   },
   "outputs": [],
   "source": [
    "# check how many different types of room are there in the hotel\n",
    "df['reserved_room_type'].unique()"
   ]
  },
  {
   "cell_type": "code",
   "execution_count": null,
   "id": "a7e844a7",
   "metadata": {
    "scrolled": true
   },
   "outputs": [],
   "source": [
    "\"\"\"\n",
    "loc函数：通过行索引 \"Index\" 中的具体值来取行数据（如取\"Index\"为\"A\"的行）\n",
    "\n",
    "iloc函数：通过行号来取行数据（如取第二行的数据）\n",
    "\"\"\"\n",
    "valid_guest = valid.loc[ valid[\"is_canceled\"] == 0]\n",
    "prices = valid_guest[ [\"hotel\", \"reserved_room_type\", \"adr_updated\"] ].sort_values(\"reserved_room_type\")\n",
    "prices"
   ]
  },
  {
   "cell_type": "code",
   "execution_count": null,
   "id": "fd8ab607",
   "metadata": {
    "scrolled": true
   },
   "outputs": [],
   "source": [
    "plt.figure(figsize=(12,8))\n",
    "sns.boxplot(x=\"reserved_room_type\",\n",
    "           y=\"adr_updated\", \n",
    "           hue = \"hotel\",\n",
    "           data=prices)\n",
    "\n",
    "plt.title(\"Price of room types per night and person\", fontsize = 16)\n",
    "plt.xlabel(\"Room type\", fontsize=16)\n",
    "plt.ylabel(\"Price [EUR]\", fontsize=16)\n",
    "plt.ylim(0,160)   # show the price range in (0, 160)\n",
    "plt.show()"
   ]
  },
  {
   "cell_type": "code",
   "execution_count": null,
   "id": "9d9f37bc",
   "metadata": {
    "scrolled": true
   },
   "outputs": [],
   "source": [
    "# see price for type C room\n",
    "prices_C = prices[ prices[\"reserved_room_type\"] == \"C\" ]\n",
    "prices_C"
   ]
  },
  {
   "cell_type": "code",
   "execution_count": null,
   "id": "d17d1270",
   "metadata": {
    "scrolled": true
   },
   "outputs": [],
   "source": [
    "# prices of type C romm for both city and resort hotel\n",
    "prices_C_city = prices_C[ prices_C['hotel']=='City Hotel' ]\n",
    "prices_C_resort = prices_C[ prices_C['hotel']==\"Resort Hotel\" ]\n",
    "prices_C_city"
   ]
  },
  {
   "cell_type": "code",
   "execution_count": null,
   "id": "10aee6c5",
   "metadata": {
    "scrolled": true
   },
   "outputs": [],
   "source": [
    "prices_C_city.describe()"
   ]
  },
  {
   "cell_type": "code",
   "execution_count": null,
   "id": "62bf94f4",
   "metadata": {
    "scrolled": true
   },
   "outputs": [],
   "source": [
    "prices_C_resort.describe()"
   ]
  },
  {
   "cell_type": "markdown",
   "id": "956cc830",
   "metadata": {},
   "source": [
    "# 7. How Long Do Guest Stay"
   ]
  },
  {
   "cell_type": "code",
   "execution_count": null,
   "id": "20c11665",
   "metadata": {
    "scrolled": true
   },
   "outputs": [],
   "source": [
    "# we have stays_in_weekend_nights and stays_in_week_nights\n",
    "not_canceled = valid[valid['is_canceled']== 0]  # 0: not canceled, 1: canceled\n",
    "not_canceled"
   ]
  },
  {
   "cell_type": "code",
   "execution_count": null,
   "id": "16aed636",
   "metadata": {
    "scrolled": true
   },
   "outputs": [],
   "source": [
    "\"\"\"\n",
    "Adding new column to DF using loc[]\n",
    "\n",
    "not_canceled.loc[:,\"total_nights\"] = not_canceled[\"stays_in_weekend_nights\"] + not_canceled[\"stays_in_week_nights\"]\n",
    "not_canceleds\n",
    "\"\"\""
   ]
  },
  {
   "cell_type": "code",
   "execution_count": null,
   "id": "7bba7081",
   "metadata": {
    "scrolled": true
   },
   "outputs": [],
   "source": [
    "not_canceled[\"total_nights\"] = not_canceled[\"stays_in_weekend_nights\"] + not_canceled[\"stays_in_week_nights\"]\n",
    "not_canceled"
   ]
  },
  {
   "cell_type": "code",
   "execution_count": null,
   "id": "2dfe0785",
   "metadata": {
    "scrolled": true
   },
   "outputs": [],
   "source": [
    "# extract the three columns we want to use\n",
    "not_canceled_temp = not_canceled[[\"hotel\", \"is_canceled\", \"total_nights\"]]\n",
    "not_canceled_temp"
   ]
  },
  {
   "cell_type": "code",
   "execution_count": null,
   "id": "3c57c139",
   "metadata": {
    "scrolled": true
   },
   "outputs": [],
   "source": [
    "#hotel_stay = not_canceled_temp.groupby([\"hotel\", \"total_nights\"]).agg(\"count\").reset_index()\n",
    "hotel_stay = not_canceled_temp.groupby([\"total_nights\", \"hotel\"]).agg(\"count\").reset_index()\n",
    "hotel_stay"
   ]
  },
  {
   "cell_type": "code",
   "execution_count": null,
   "id": "0b4f5d13",
   "metadata": {
    "scrolled": true
   },
   "outputs": [],
   "source": [
    "\"\"\"\n",
    "is_canceled\" is counting how many \"not canceled\" are there, \n",
    "which is number of orders staying for total of xx nights. For readability, it will be renamed as \"Number of stays\"\n",
    "\"\"\"\n",
    "hotel_stay = hotel_stay.rename( columns= {'is_canceled' : \"Number of stays\"} )\n",
    "hotel_stay.head()"
   ]
  },
  {
   "cell_type": "code",
   "execution_count": null,
   "id": "f3d7b4a9",
   "metadata": {
    "scrolled": true
   },
   "outputs": [],
   "source": [
    "hotel_stay_resort = hotel_stay[ hotel_stay['hotel'] == 'Resort Hotel' ]\n",
    "hotel_stay_resort"
   ]
  },
  {
   "cell_type": "code",
   "execution_count": null,
   "id": "9de15177",
   "metadata": {
    "scrolled": true
   },
   "outputs": [],
   "source": [
    "hotel_stay_city = hotel_stay[ hotel_stay['hotel'] == \"City Hotel\" ]\n",
    "hotel_stay_city"
   ]
  },
  {
   "cell_type": "code",
   "execution_count": null,
   "id": "12552596",
   "metadata": {
    "scrolled": false
   },
   "outputs": [],
   "source": [
    "\n",
    "trace_resort = go.Bar(\n",
    "    x = hotel_stay_resort[\"total_nights\"],\n",
    "    y = hotel_stay_resort[\"Number of stays\"],\n",
    "    name = \"Resort Stay\"\n",
    ")\n",
    "trace_city = go.Bar(\n",
    "    x = hotel_stay_city[\"total_nights\"],\n",
    "    y = hotel_stay_city[\"Number of stays\"],\n",
    "    name = \"City Stay\"\n",
    ")\n",
    "\n",
    "trace_list = [trace_resort, trace_city]\n",
    "layout = go.Layout(title = \"Total Number of stays by Guest\")\n",
    "fig = go.Figure(data=trace_list, layout=layout)\n",
    "# pyo.plot(fig) #output htmls\n",
    "fig"
   ]
  },
  {
   "cell_type": "code",
   "execution_count": null,
   "id": "ceee2d38",
   "metadata": {
    "scrolled": true
   },
   "outputs": [],
   "source": [
    "total_stay = hotel_stay_resort[\"Number of stays\"].sum() + hotel_stay_city[\"Number of stays\"].sum()\n",
    "hotel_stay_resort[\"percentage stay\"] = hotel_stay_resort[\"Number of stays\"]/total_stay * 100\n",
    "hotel_stay_resort"
   ]
  },
  {
   "cell_type": "code",
   "execution_count": null,
   "id": "74713c03",
   "metadata": {},
   "outputs": [],
   "source": [
    "hotel_stay_city[\"percentage stay\"] = hotel_stay_city[\"Number of stays\"]/total_stay * 100\n",
    "hotel_stay_city"
   ]
  },
  {
   "cell_type": "code",
   "execution_count": null,
   "id": "baa40cf2",
   "metadata": {},
   "outputs": [],
   "source": [
    "[hotel_stay_resort[\"percentage stay\"].sum(), hotel_stay_city[\"percentage stay\"].sum()]"
   ]
  },
  {
   "cell_type": "markdown",
   "id": "33b4471c",
   "metadata": {
    "scrolled": true
   },
   "source": [
    "Most (77%) of the customers are staying for one to four night. If people are staying for 1 to 5 nights, they are more likely to choose city hotel, otherwise they are more likely to choose resort hotel."
   ]
  },
  {
   "cell_type": "markdown",
   "id": "f47c43a5",
   "metadata": {},
   "source": [
    "# 8. Booking By Market segment"
   ]
  },
  {
   "cell_type": "markdown",
   "id": "49a7b53b",
   "metadata": {},
   "source": [
    "### 8.1 Which market segment has higher bookings?"
   ]
  },
  {
   "cell_type": "code",
   "execution_count": null,
   "id": "fe9f1bec",
   "metadata": {
    "scrolled": true
   },
   "outputs": [],
   "source": [
    "segments = valid[\"market_segment\"].value_counts()\n",
    "segments"
   ]
  },
  {
   "cell_type": "code",
   "execution_count": null,
   "id": "56061c89",
   "metadata": {},
   "outputs": [],
   "source": [
    "# make a pie chart for market segments\n",
    "fig = px.pie(segments, \n",
    "            values = segments.values,\n",
    "            names = segments.index, \n",
    "            title = \"Bookings per market segment\",\n",
    "            template = \"seaborn\")\n",
    "fig.update_traces(rotation = -90, textinfo = \"percent+label\")\n",
    "fig.show()"
   ]
  },
  {
   "cell_type": "markdown",
   "id": "e6d9b72b",
   "metadata": {},
   "source": [
    "67.6% booking are booked through travel agent, and 47.3% of those are through online TA and 20.3% are through offline TA."
   ]
  },
  {
   "cell_type": "markdown",
   "id": "aafe12c8",
   "metadata": {},
   "source": [
    "### 8.2 What is the price distribution through market segment?"
   ]
  },
  {
   "cell_type": "code",
   "execution_count": null,
   "id": "d33046c6",
   "metadata": {},
   "outputs": [],
   "source": [
    "plt.figure(figsize=(12,8))\n",
    "sns.barplot(x = \"market_segment\", \n",
    "            y = \"adr_updated\",\n",
    "            hue = \"reserved_room_type\", # adding second layer of grouping within each x values\n",
    "            data = valid,\n",
    "            ci=None # no error line\n",
    "           )\n",
    "plt.title(\"ADR by market segment and room type\", fontsize = 16)\n",
    "plt.xlabel(\"Market segment\", fontsize=16)\n",
    "plt.xticks(rotation=45) # rotate x label\n",
    "plt.ylabel(\"ADR per person [EUR]\", fontsize = 16)\n",
    "plt.legend(loc = \"upper left\")\n",
    "plt.show()"
   ]
  },
  {
   "cell_type": "markdown",
   "id": "7e1dc972",
   "metadata": {},
   "source": [
    "Room type E with booking through aviation has the highest average daily rate per person.\\\n",
    "Room type L only present in direct booking. We might say room type L only offer to people booking directly."
   ]
  },
  {
   "cell_type": "code",
   "execution_count": null,
   "id": "3bcbffd5",
   "metadata": {},
   "outputs": [],
   "source": [
    "# What is the price distribution for all room type?"
   ]
  },
  {
   "cell_type": "markdown",
   "id": "49c72c36",
   "metadata": {},
   "source": [
    "# 9. Booking Cacellation"
   ]
  },
  {
   "cell_type": "markdown",
   "id": "9e252e34",
   "metadata": {},
   "source": [
    "### 9.1 How many bookings were cancelled?"
   ]
  },
  {
   "cell_type": "code",
   "execution_count": null,
   "id": "ca7cd584",
   "metadata": {},
   "outputs": [],
   "source": [
    "cancel = valid[\"is_canceled\"] == 1\n",
    "cancel"
   ]
  },
  {
   "cell_type": "code",
   "execution_count": null,
   "id": "64012352",
   "metadata": {},
   "outputs": [],
   "source": [
    "resort_cancellation = valid.loc[valid[\"hotel\"] == \"Resort Hotel\"][\"is_canceled\"].sum()\n",
    "city_cancellation = valid.loc[valid[\"hotel\"] == \"City Hotel\"][\"is_canceled\"].sum()\n",
    "resort_cancellation, city_cancellation"
   ]
  },
  {
   "cell_type": "code",
   "execution_count": null,
   "id": "b7e8fbb0",
   "metadata": {},
   "outputs": [],
   "source": [
    "new_line = '\\n'\n",
    "print(f\"Total Booking Cancelled: {cancel.sum()}. {new_line}Total Resort Hotel Booking Cancelled: {resort_cancellation}. {new_line}Total Resort Hotel Booking Cancelled: {city_cancellation}.\")"
   ]
  },
  {
   "cell_type": "markdown",
   "id": "41791a68",
   "metadata": {},
   "source": [
    "### 9.2 Which month have the highest number of cancelations?"
   ]
  },
  {
   "cell_type": "code",
   "execution_count": null,
   "id": "86a9a239",
   "metadata": {},
   "outputs": [],
   "source": [
    "resort_groupby_month = valid.loc[ valid[\"hotel\"]==\"Resort Hotel\" ].groupby(\"arrival_date_month\")\n",
    "resort_book_per_month = resort_groupby_month[\"hotel\"].count()\n",
    "resort_cancel_per_month = resort_groupby_month[\"is_canceled\"].sum() # is_canceled == 1 == yes, count() is counting total number of entries -> use sum() instead of count() \n",
    "resort_cancel_per_month"
   ]
  },
  {
   "cell_type": "code",
   "execution_count": null,
   "id": "7e1106b7",
   "metadata": {},
   "outputs": [],
   "source": [
    "city_groupby_month = valid.loc[ valid[\"hotel\"]==\"City Hotel\" ].groupby(\"arrival_date_month\")\n",
    "city_book_per_month = city_groupby_month[\"hotel\"].count()\n",
    "city_cancel_per_month = city_groupby_month[\"is_canceled\"].sum() \n",
    "city_cancel_per_month"
   ]
  },
  {
   "cell_type": "code",
   "execution_count": null,
   "id": "8317c61c",
   "metadata": {},
   "outputs": [],
   "source": [
    "res_cancel_data = pd.DataFrame({\"Hotel\": \"Resort Hotel\",\n",
    "                               \"Month\": resort_book_per_month.index,\n",
    "                               \"Bookings\": resort_book_per_month.values,\n",
    "                               \"Cancelations\": resort_cancel_per_month.values})\n",
    "res_cancel_data = sd.Sort_Dataframeby_Month(df=res_cancel_data, monthcolumnname=\"Month\")\n",
    "city_cancel_data = pd.DataFrame({\"Hotel\": \"City Hotel\",\n",
    "                                \"Month\": city_book_per_month.index,\n",
    "                                \"Bookings\": city_book_per_month.values,\n",
    "                                \"Cancelations\": city_cancel_per_month.values})\n",
    "city_cancel_data = sd.Sort_Dataframeby_Month(df = city_cancel_data, monthcolumnname = \"Month\")\n",
    "res_cancel_data"
   ]
  },
  {
   "cell_type": "code",
   "execution_count": null,
   "id": "3c9bfe54",
   "metadata": {},
   "outputs": [],
   "source": [
    "plt.figure(figsize = (12,8))\n",
    "\n",
    "trace_res = go.Bar(\n",
    "    x = res_cancel_data[\"Month\"],\n",
    "    y = res_cancel_data[\"Cancelations\"],\n",
    "    name = \"Rst Cancelled\"\n",
    ")\n",
    "trace_city = go.Bar(\n",
    "    x = city_cancel_data['Month'],\n",
    "    y = city_cancel_data[\"Cancelations\"],\n",
    "    name = \"Cty Cancelled \")\n",
    "layout = go.Layout(\n",
    "    title = \"Total Number of Cancelations by Guest\"\n",
    ")\n",
    "fig = go.Figure(data=[trace_res,trace_city], layout=layout)\n",
    "fig"
   ]
  },
  {
   "cell_type": "markdown",
   "id": "f4cd5ff5",
   "metadata": {},
   "source": [
    "May has the highest number of cancelations of 3653 for city hotel, and August has the highest number of cancelations of 1637 for resort hotel."
   ]
  }
 ],
 "metadata": {
  "kernelspec": {
   "display_name": "Python 3.9.13 64-bit",
   "language": "python",
   "name": "python3"
  },
  "language_info": {
   "codemirror_mode": {
    "name": "ipython",
    "version": 3
   },
   "file_extension": ".py",
   "mimetype": "text/x-python",
   "name": "python",
   "nbconvert_exporter": "python",
   "pygments_lexer": "ipython3",
   "version": "3.9.13"
  },
  "vscode": {
   "interpreter": {
    "hash": "a665b5d41d17b532ea9890333293a1b812fa0b73c9c25c950b3cedf1bebd0438"
   }
  }
 },
 "nbformat": 4,
 "nbformat_minor": 5
}
